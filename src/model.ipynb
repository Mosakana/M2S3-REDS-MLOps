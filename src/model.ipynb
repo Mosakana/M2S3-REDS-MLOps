{
 "cells": [
  {
   "cell_type": "raw",
   "id": "36285be6-fe6a-4f76-8f64-9fef59260dca",
   "metadata": {},
   "source": [
    "# TP MLOps – Cycle de vie d'un Chatbot avec un Modèle de Langage\n",
    "\n",
    "Étape 1 : Préparation des données \n",
    "\n",
    "Vous disposez d’un fichier de données de type FAQ ou dialogue, que nous utiliserons pour entraîner un chatbot. Commencez par explorer les données, puis effectuez le nettoyage et le prétraitement. Séparez les données en ensembles d’entraînement et de test.\n",
    "\n",
    "Tâche 1 : Exploration des données\n",
    "\n",
    "Chargez les données et examinez la structure (affichez quelques lignes pour comprendre le contenu).\n",
    "Tâche 2 : Nettoyage et prétraitement\n",
    "\n",
    "Mettez le texte en minuscules, supprimez les ponctuations et effectuez une tokenisation si nécessaire.\n",
    "Tâche 3 : Séparation des ensembles\n",
    "\n",
    "Séparez les données en un ensemble d’entraînement (80 %) et un ensemble de test (20 %)."
   ]
  },
  {
   "cell_type": "markdown",
   "id": "3e4cbac7-0b07-4fd3-96ce-fdcdb301ee42",
   "metadata": {},
   "source": [
    "modules nécessaire pandas scikit-learn"
   ]
  },
  {
   "cell_type": "code",
   "id": "9816ff16-2911-4e93-afb7-2cc6462279bb",
   "metadata": {
    "ExecuteTime": {
     "end_time": "2024-11-07T10:48:45.811012Z",
     "start_time": "2024-11-07T10:48:44.401636Z"
    }
   },
   "source": [
    "import pandas as pd\n",
    "from scipy.ndimage import label\n",
    "from sklearn.model_selection import train_test_split"
   ],
   "outputs": [],
   "execution_count": 1
  },
  {
   "cell_type": "markdown",
   "id": "b52d3076-f2cc-4d84-96c1-a7fb64ed9c1a",
   "metadata": {},
   "source": [
    "# Chargement des données"
   ]
  },
  {
   "cell_type": "code",
   "id": "ef61d16e-1a5b-44bc-ab42-e6505fc325e2",
   "metadata": {
    "ExecuteTime": {
     "end_time": "2024-11-07T10:48:45.841907Z",
     "start_time": "2024-11-07T10:48:45.815996Z"
    }
   },
   "source": [
    "df = pd.read_csv('data/faq_data.csv')\n",
    "X = df['question']\n",
    "y = df['answer']"
   ],
   "outputs": [],
   "execution_count": 2
  },
  {
   "cell_type": "markdown",
   "id": "05075962-20b0-4348-a49e-21a90e2ddd7f",
   "metadata": {},
   "source": [
    "# Nettoyage des colonnes 'question' et 'answer' en minuscules et suppression des ponctuations"
   ]
  },
  {
   "metadata": {
    "ExecuteTime": {
     "end_time": "2024-11-07T10:48:45.949072Z",
     "start_time": "2024-11-07T10:48:45.936109Z"
    }
   },
   "cell_type": "code",
   "source": [
    "import string\n",
    "import re\n",
    "def remove_punctuation(doc: str):\n",
    "    punc = string.punctuation\n",
    "    punc += '\\n\\r\\t'\n",
    "    return re.sub(' +', ' ', doc.translate(str.maketrans(punc, ' ' * len(punc))))\n",
    "    "
   ],
   "id": "e528894a61b766bf",
   "outputs": [],
   "execution_count": 3
  },
  {
   "cell_type": "code",
   "id": "bd6f058b-330b-47a4-884c-68346c0aa671",
   "metadata": {
    "ExecuteTime": {
     "end_time": "2024-11-07T10:48:45.978967Z",
     "start_time": "2024-11-07T10:48:45.966009Z"
    }
   },
   "source": [
    "df = df.applymap(str.lower).applymap(remove_punctuation)\n",
    "df"
   ],
   "outputs": [
    {
     "data": {
      "text/plain": [
       "                                   question  \\\n",
       "0                            what is mlops    \n",
       "1                   why is mlops important    \n",
       "2                     what is a data drift    \n",
       "3        how does versioning work in mlops    \n",
       "4                 what is a model registry    \n",
       "5  how can i monitor a model in production    \n",
       "6            what is the purpose of docker    \n",
       "7                 what are ci cd pipelines    \n",
       "8                           why use mlflow    \n",
       "9     how does fastapi work with ml models    \n",
       "\n",
       "                                              answer  \n",
       "0  mlops is a set of practices to streamline the ...  \n",
       "1  mlops helps in scaling monitoring and maintain...  \n",
       "2  data drift is a change in the statistical prop...  \n",
       "3  versioning allows you to track and manage diff...  \n",
       "4  a model registry is a centralized storage for ...  \n",
       "5  by tracking metrics like accuracy latency and ...  \n",
       "6  docker helps in creating reproducible environm...  \n",
       "7  ci cd pipelines automate the testing and deplo...  \n",
       "8  mlflow tracks experiments manages models and f...  \n",
       "9  fastapi allows you to build an api for serving...  "
      ],
      "text/html": [
       "<div>\n",
       "<style scoped>\n",
       "    .dataframe tbody tr th:only-of-type {\n",
       "        vertical-align: middle;\n",
       "    }\n",
       "\n",
       "    .dataframe tbody tr th {\n",
       "        vertical-align: top;\n",
       "    }\n",
       "\n",
       "    .dataframe thead th {\n",
       "        text-align: right;\n",
       "    }\n",
       "</style>\n",
       "<table border=\"1\" class=\"dataframe\">\n",
       "  <thead>\n",
       "    <tr style=\"text-align: right;\">\n",
       "      <th></th>\n",
       "      <th>question</th>\n",
       "      <th>answer</th>\n",
       "    </tr>\n",
       "  </thead>\n",
       "  <tbody>\n",
       "    <tr>\n",
       "      <th>0</th>\n",
       "      <td>what is mlops</td>\n",
       "      <td>mlops is a set of practices to streamline the ...</td>\n",
       "    </tr>\n",
       "    <tr>\n",
       "      <th>1</th>\n",
       "      <td>why is mlops important</td>\n",
       "      <td>mlops helps in scaling monitoring and maintain...</td>\n",
       "    </tr>\n",
       "    <tr>\n",
       "      <th>2</th>\n",
       "      <td>what is a data drift</td>\n",
       "      <td>data drift is a change in the statistical prop...</td>\n",
       "    </tr>\n",
       "    <tr>\n",
       "      <th>3</th>\n",
       "      <td>how does versioning work in mlops</td>\n",
       "      <td>versioning allows you to track and manage diff...</td>\n",
       "    </tr>\n",
       "    <tr>\n",
       "      <th>4</th>\n",
       "      <td>what is a model registry</td>\n",
       "      <td>a model registry is a centralized storage for ...</td>\n",
       "    </tr>\n",
       "    <tr>\n",
       "      <th>5</th>\n",
       "      <td>how can i monitor a model in production</td>\n",
       "      <td>by tracking metrics like accuracy latency and ...</td>\n",
       "    </tr>\n",
       "    <tr>\n",
       "      <th>6</th>\n",
       "      <td>what is the purpose of docker</td>\n",
       "      <td>docker helps in creating reproducible environm...</td>\n",
       "    </tr>\n",
       "    <tr>\n",
       "      <th>7</th>\n",
       "      <td>what are ci cd pipelines</td>\n",
       "      <td>ci cd pipelines automate the testing and deplo...</td>\n",
       "    </tr>\n",
       "    <tr>\n",
       "      <th>8</th>\n",
       "      <td>why use mlflow</td>\n",
       "      <td>mlflow tracks experiments manages models and f...</td>\n",
       "    </tr>\n",
       "    <tr>\n",
       "      <th>9</th>\n",
       "      <td>how does fastapi work with ml models</td>\n",
       "      <td>fastapi allows you to build an api for serving...</td>\n",
       "    </tr>\n",
       "  </tbody>\n",
       "</table>\n",
       "</div>"
      ]
     },
     "execution_count": 4,
     "metadata": {},
     "output_type": "execute_result"
    }
   ],
   "execution_count": 4
  },
  {
   "cell_type": "markdown",
   "id": "909908ec-7726-4bc1-95c3-a9adf87c6d26",
   "metadata": {},
   "source": [
    "# Séparation en ensembles d'entraînement et de test"
   ]
  },
  {
   "cell_type": "code",
   "id": "3128ed49-e305-4abf-919c-547171338c1c",
   "metadata": {
    "ExecuteTime": {
     "end_time": "2024-11-07T10:48:46.192290Z",
     "start_time": "2024-11-07T10:48:46.178332Z"
    }
   },
   "source": "df_train, df_test = train_test_split(df, test_size=0.2, random_state=42)",
   "outputs": [],
   "execution_count": 5
  },
  {
   "cell_type": "markdown",
   "id": "5ead004c-4c8f-4179-bcab-87e737888127",
   "metadata": {},
   "source": [
    "# Sauvegarde des versions de données\n",
    "data/train_data.csv\n",
    "data/test_data.csv"
   ]
  },
  {
   "cell_type": "code",
   "id": "b9599fbf-8502-4797-aae1-e8ca0e8c4db9",
   "metadata": {
    "ExecuteTime": {
     "end_time": "2024-11-07T10:48:46.253599Z",
     "start_time": "2024-11-07T10:48:46.240641Z"
    }
   },
   "source": [
    "df_train.to_csv('data/train_data.csv')\n",
    "df_test.to_csv('data/test_data.csv')"
   ],
   "outputs": [],
   "execution_count": 6
  },
  {
   "cell_type": "markdown",
   "id": "25875cae-0576-4c1a-ade1-691bd0bd6b95",
   "metadata": {},
   "source": [
    "### Étape 2 : Entraînement du modèle \n",
    "\n",
    "Entraînez un modèle de langage de type LLM sur les données d’entraînement. Suivez les expérimentations avec MLflow pour enregistrer les hyperparamètres et les performances du modèle.\n",
    "\n",
    "### Tâche 1 : Entraînement du modèle\n",
    "\n",
    "Utilisez un modèle préentraîné (par exemple, GPT-2 de Hugging Face).\n",
    "Entraînez le modèle sur l'ensemble d'entraînement, en suivant les hyperparamètres et les métriques de performance.\n",
    "Tâche 2 : Suivi des expérimentations avec MLflow\n",
    "\n",
    "Créez une nouvelle expérience dans MLflow et enregistrez les paramètres, métriques, et le modèle."
   ]
  },
  {
   "cell_type": "markdown",
   "id": "8374b36a-1bd7-4b44-9105-f5f38e4f0d79",
   "metadata": {},
   "source": [
    "modules nécessaire mlflow transformers[torch] datasets"
   ]
  },
  {
   "cell_type": "code",
   "id": "ff66396d-e6ed-4774-805e-8f6ca6f1c0a8",
   "metadata": {
    "ExecuteTime": {
     "end_time": "2024-11-07T10:48:46.284497Z",
     "start_time": "2024-11-07T10:48:46.275527Z"
    }
   },
   "source": "",
   "outputs": [],
   "execution_count": null
  },
  {
   "cell_type": "markdown",
   "id": "c00d9173-c9bf-4de5-a1d5-21ac01781185",
   "metadata": {},
   "source": [
    "# Activation mlflow server avec backend-store-uri sqlite default-artifact-root file:/home/$USER/mlops/2024/mlruns ip et port à définir"
   ]
  },
  {
   "metadata": {
    "ExecuteTime": {
     "end_time": "2024-11-07T10:48:53.528546Z",
     "start_time": "2024-11-07T10:48:46.303438Z"
    }
   },
   "cell_type": "code",
   "source": [
    "!pip install mlflow\n",
    "!pip install datasets"
   ],
   "id": "fcc08992d1a53d7",
   "outputs": [
    {
     "name": "stdout",
     "output_type": "stream",
     "text": [
      "Requirement already satisfied: mlflow in d:\\anaconda3\\envs\\master\\lib\\site-packages (2.16.2)\n",
      "Requirement already satisfied: Flask<4 in d:\\anaconda3\\envs\\master\\lib\\site-packages (from mlflow) (2.2.5)\n",
      "Requirement already satisfied: alembic!=1.10.0,<2 in d:\\anaconda3\\envs\\master\\lib\\site-packages (from mlflow) (1.13.3)\n",
      "Requirement already satisfied: cachetools<6,>=5.0.0 in d:\\anaconda3\\envs\\master\\lib\\site-packages (from mlflow) (5.3.3)\n",
      "Requirement already satisfied: click<9,>=7.0 in d:\\anaconda3\\envs\\master\\lib\\site-packages (from mlflow) (8.1.7)\n",
      "Requirement already satisfied: cloudpickle<4 in d:\\anaconda3\\envs\\master\\lib\\site-packages (from mlflow) (3.0.0)\n",
      "Requirement already satisfied: databricks-sdk<1,>=0.20.0 in d:\\anaconda3\\envs\\master\\lib\\site-packages (from mlflow) (0.33.0)\n",
      "Requirement already satisfied: docker<8,>=4.0.0 in d:\\anaconda3\\envs\\master\\lib\\site-packages (from mlflow) (7.0.0)\n",
      "Requirement already satisfied: gitpython<4,>=3.1.9 in d:\\anaconda3\\envs\\master\\lib\\site-packages (from mlflow) (3.1.43)\n",
      "Requirement already satisfied: graphene<4 in d:\\anaconda3\\envs\\master\\lib\\site-packages (from mlflow) (3.3)\n",
      "Requirement already satisfied: importlib-metadata!=4.7.0,<9,>=3.7.0 in d:\\anaconda3\\envs\\master\\lib\\site-packages (from mlflow) (7.0.1)\n",
      "Requirement already satisfied: markdown<4,>=3.3 in d:\\anaconda3\\envs\\master\\lib\\site-packages (from mlflow) (3.4.1)\n",
      "Requirement already satisfied: matplotlib<4 in d:\\anaconda3\\envs\\master\\lib\\site-packages (from mlflow) (3.8.0)\n",
      "Requirement already satisfied: numpy<3 in d:\\anaconda3\\envs\\master\\lib\\site-packages (from mlflow) (1.26.3)\n",
      "Requirement already satisfied: opentelemetry-api<3,>=1.9.0 in d:\\anaconda3\\envs\\master\\lib\\site-packages (from mlflow) (1.26.0)\n",
      "Requirement already satisfied: opentelemetry-sdk<3,>=1.9.0 in d:\\anaconda3\\envs\\master\\lib\\site-packages (from mlflow) (1.26.0)\n",
      "Requirement already satisfied: packaging<25 in d:\\anaconda3\\envs\\master\\lib\\site-packages (from mlflow) (23.1)\n",
      "Requirement already satisfied: pandas<3 in d:\\anaconda3\\envs\\master\\lib\\site-packages (from mlflow) (1.5.3)\n",
      "Requirement already satisfied: protobuf<6,>=3.12.0 in d:\\anaconda3\\envs\\master\\lib\\site-packages (from mlflow) (3.19.6)\n",
      "Requirement already satisfied: pyarrow<18,>=4.0.0 in d:\\anaconda3\\envs\\master\\lib\\site-packages (from mlflow) (14.0.2)\n",
      "Requirement already satisfied: pyyaml<7,>=5.1 in d:\\anaconda3\\envs\\master\\lib\\site-packages (from mlflow) (6.0.1)\n",
      "Requirement already satisfied: requests<3,>=2.17.3 in d:\\anaconda3\\envs\\master\\lib\\site-packages (from mlflow) (2.31.0)\n",
      "Requirement already satisfied: scikit-learn<2 in d:\\anaconda3\\envs\\master\\lib\\site-packages (from mlflow) (1.3.0)\n",
      "Requirement already satisfied: scipy<2 in d:\\anaconda3\\envs\\master\\lib\\site-packages (from mlflow) (1.11.4)\n",
      "Requirement already satisfied: sqlalchemy<3,>=1.4.0 in d:\\anaconda3\\envs\\master\\lib\\site-packages (from mlflow) (2.0.34)\n",
      "Requirement already satisfied: sqlparse<1,>=0.4.0 in d:\\anaconda3\\envs\\master\\lib\\site-packages (from mlflow) (0.4.4)\n",
      "Requirement already satisfied: Jinja2<4,>=3.0 in d:\\anaconda3\\envs\\master\\lib\\site-packages (from mlflow) (3.1.3)\n",
      "Requirement already satisfied: waitress<4 in d:\\anaconda3\\envs\\master\\lib\\site-packages (from mlflow) (2.0.0)\n",
      "Requirement already satisfied: Mako in d:\\anaconda3\\envs\\master\\lib\\site-packages (from alembic!=1.10.0,<2->mlflow) (1.2.3)\n",
      "Requirement already satisfied: typing-extensions>=4 in d:\\anaconda3\\envs\\master\\lib\\site-packages (from alembic!=1.10.0,<2->mlflow) (4.9.0)\n",
      "Requirement already satisfied: colorama in d:\\anaconda3\\envs\\master\\lib\\site-packages (from click<9,>=7.0->mlflow) (0.4.6)\n",
      "Requirement already satisfied: google-auth~=2.0 in d:\\anaconda3\\envs\\master\\lib\\site-packages (from databricks-sdk<1,>=0.20.0->mlflow) (2.6.0)\n",
      "Requirement already satisfied: urllib3>=1.26.0 in d:\\anaconda3\\envs\\master\\lib\\site-packages (from docker<8,>=4.0.0->mlflow) (2.1.0)\n",
      "Requirement already satisfied: pywin32>=304 in d:\\anaconda3\\envs\\master\\lib\\site-packages (from docker<8,>=4.0.0->mlflow) (305.1)\n",
      "Requirement already satisfied: Werkzeug>=2.2.2 in d:\\anaconda3\\envs\\master\\lib\\site-packages (from Flask<4->mlflow) (2.3.8)\n",
      "Requirement already satisfied: itsdangerous>=2.0 in d:\\anaconda3\\envs\\master\\lib\\site-packages (from Flask<4->mlflow) (2.0.1)\n",
      "Requirement already satisfied: gitdb<5,>=4.0.1 in d:\\anaconda3\\envs\\master\\lib\\site-packages (from gitpython<4,>=3.1.9->mlflow) (4.0.7)\n",
      "Requirement already satisfied: graphql-core<3.3,>=3.1 in d:\\anaconda3\\envs\\master\\lib\\site-packages (from graphene<4->mlflow) (3.2.3)\n",
      "Requirement already satisfied: graphql-relay<3.3,>=3.1 in d:\\anaconda3\\envs\\master\\lib\\site-packages (from graphene<4->mlflow) (3.2.0)\n",
      "Requirement already satisfied: aniso8601<10,>=8 in d:\\anaconda3\\envs\\master\\lib\\site-packages (from graphene<4->mlflow) (9.0.1)\n",
      "Requirement already satisfied: zipp>=0.5 in d:\\anaconda3\\envs\\master\\lib\\site-packages (from importlib-metadata!=4.7.0,<9,>=3.7.0->mlflow) (3.17.0)\n",
      "Requirement already satisfied: MarkupSafe>=2.0 in d:\\anaconda3\\envs\\master\\lib\\site-packages (from Jinja2<4,>=3.0->mlflow) (2.1.3)\n",
      "Requirement already satisfied: contourpy>=1.0.1 in d:\\anaconda3\\envs\\master\\lib\\site-packages (from matplotlib<4->mlflow) (1.2.0)\n",
      "Requirement already satisfied: cycler>=0.10 in d:\\anaconda3\\envs\\master\\lib\\site-packages (from matplotlib<4->mlflow) (0.11.0)\n",
      "Requirement already satisfied: fonttools>=4.22.0 in d:\\anaconda3\\envs\\master\\lib\\site-packages (from matplotlib<4->mlflow) (4.25.0)\n",
      "Requirement already satisfied: kiwisolver>=1.0.1 in d:\\anaconda3\\envs\\master\\lib\\site-packages (from matplotlib<4->mlflow) (1.4.4)\n",
      "Requirement already satisfied: pillow>=6.2.0 in d:\\anaconda3\\envs\\master\\lib\\site-packages (from matplotlib<4->mlflow) (10.2.0)\n",
      "Requirement already satisfied: pyparsing>=2.3.1 in d:\\anaconda3\\envs\\master\\lib\\site-packages (from matplotlib<4->mlflow) (2.4.7)\n",
      "Requirement already satisfied: python-dateutil>=2.7 in d:\\anaconda3\\envs\\master\\lib\\site-packages (from matplotlib<4->mlflow) (2.8.2)\n",
      "Requirement already satisfied: deprecated>=1.2.6 in d:\\anaconda3\\envs\\master\\lib\\site-packages (from opentelemetry-api<3,>=1.9.0->mlflow) (1.2.13)\n",
      "Requirement already satisfied: opentelemetry-semantic-conventions==0.47b0 in d:\\anaconda3\\envs\\master\\lib\\site-packages (from opentelemetry-sdk<3,>=1.9.0->mlflow) (0.47b0)\n",
      "Requirement already satisfied: pytz>=2020.1 in d:\\anaconda3\\envs\\master\\lib\\site-packages (from pandas<3->mlflow) (2023.3.post1)\n",
      "Requirement already satisfied: charset-normalizer<4,>=2 in d:\\anaconda3\\envs\\master\\lib\\site-packages (from requests<3,>=2.17.3->mlflow) (2.0.4)\n",
      "Requirement already satisfied: idna<4,>=2.5 in d:\\anaconda3\\envs\\master\\lib\\site-packages (from requests<3,>=2.17.3->mlflow) (3.4)\n",
      "Requirement already satisfied: certifi>=2017.4.17 in d:\\anaconda3\\envs\\master\\lib\\site-packages (from requests<3,>=2.17.3->mlflow) (2024.8.30)\n",
      "Requirement already satisfied: joblib>=1.1.1 in d:\\anaconda3\\envs\\master\\lib\\site-packages (from scikit-learn<2->mlflow) (1.2.0)\n",
      "Requirement already satisfied: threadpoolctl>=2.0.0 in d:\\anaconda3\\envs\\master\\lib\\site-packages (from scikit-learn<2->mlflow) (2.2.0)\n",
      "Requirement already satisfied: greenlet!=0.4.17 in d:\\anaconda3\\envs\\master\\lib\\site-packages (from sqlalchemy<3,>=1.4.0->mlflow) (3.0.1)\n",
      "Requirement already satisfied: wrapt<2,>=1.10 in d:\\anaconda3\\envs\\master\\lib\\site-packages (from deprecated>=1.2.6->opentelemetry-api<3,>=1.9.0->mlflow) (1.14.1)\n",
      "Requirement already satisfied: smmap<5,>=3.0.1 in d:\\anaconda3\\envs\\master\\lib\\site-packages (from gitdb<5,>=4.0.1->gitpython<4,>=3.1.9->mlflow) (4.0.0)\n",
      "Requirement already satisfied: pyasn1-modules>=0.2.1 in d:\\anaconda3\\envs\\master\\lib\\site-packages (from google-auth~=2.0->databricks-sdk<1,>=0.20.0->mlflow) (0.2.8)\n",
      "Requirement already satisfied: six>=1.9.0 in d:\\anaconda3\\envs\\master\\lib\\site-packages (from google-auth~=2.0->databricks-sdk<1,>=0.20.0->mlflow) (1.16.0)\n",
      "Requirement already satisfied: rsa<5,>=3.1.4 in d:\\anaconda3\\envs\\master\\lib\\site-packages (from google-auth~=2.0->databricks-sdk<1,>=0.20.0->mlflow) (4.7.2)\n",
      "Requirement already satisfied: pyasn1<0.5.0,>=0.4.6 in d:\\anaconda3\\envs\\master\\lib\\site-packages (from pyasn1-modules>=0.2.1->google-auth~=2.0->databricks-sdk<1,>=0.20.0->mlflow) (0.4.8)\n",
      "Requirement already satisfied: datasets in d:\\anaconda3\\envs\\master\\lib\\site-packages (2.12.0)\n",
      "Requirement already satisfied: numpy>=1.17 in d:\\anaconda3\\envs\\master\\lib\\site-packages (from datasets) (1.26.3)\n",
      "Requirement already satisfied: pyarrow>=8.0.0 in d:\\anaconda3\\envs\\master\\lib\\site-packages (from datasets) (14.0.2)\n",
      "Requirement already satisfied: dill<0.3.7,>=0.3.0 in d:\\anaconda3\\envs\\master\\lib\\site-packages (from datasets) (0.3.6)\n",
      "Requirement already satisfied: pandas in d:\\anaconda3\\envs\\master\\lib\\site-packages (from datasets) (1.5.3)\n",
      "Requirement already satisfied: requests>=2.19.0 in d:\\anaconda3\\envs\\master\\lib\\site-packages (from datasets) (2.31.0)\n",
      "Requirement already satisfied: tqdm>=4.62.1 in d:\\anaconda3\\envs\\master\\lib\\site-packages (from datasets) (4.65.0)\n",
      "Requirement already satisfied: xxhash in d:\\anaconda3\\envs\\master\\lib\\site-packages (from datasets) (2.0.2)\n",
      "Requirement already satisfied: multiprocess in d:\\anaconda3\\envs\\master\\lib\\site-packages (from datasets) (0.70.14)\n",
      "Requirement already satisfied: fsspec>=2021.11.1 in d:\\anaconda3\\envs\\master\\lib\\site-packages (from fsspec[http]>=2021.11.1->datasets) (2023.9.2)\n",
      "Requirement already satisfied: aiohttp in d:\\anaconda3\\envs\\master\\lib\\site-packages (from datasets) (3.9.3)\n",
      "Requirement already satisfied: huggingface-hub<1.0.0,>=0.11.0 in d:\\anaconda3\\envs\\master\\lib\\site-packages (from datasets) (0.20.3)\n",
      "Requirement already satisfied: packaging in d:\\anaconda3\\envs\\master\\lib\\site-packages (from datasets) (23.1)\n",
      "Requirement already satisfied: responses<0.19 in d:\\anaconda3\\envs\\master\\lib\\site-packages (from datasets) (0.13.3)\n",
      "Requirement already satisfied: pyyaml>=5.1 in d:\\anaconda3\\envs\\master\\lib\\site-packages (from datasets) (6.0.1)\n",
      "Requirement already satisfied: aiosignal>=1.1.2 in d:\\anaconda3\\envs\\master\\lib\\site-packages (from aiohttp->datasets) (1.2.0)\n",
      "Requirement already satisfied: attrs>=17.3.0 in d:\\anaconda3\\envs\\master\\lib\\site-packages (from aiohttp->datasets) (23.1.0)\n",
      "Requirement already satisfied: frozenlist>=1.1.1 in d:\\anaconda3\\envs\\master\\lib\\site-packages (from aiohttp->datasets) (1.4.0)\n",
      "Requirement already satisfied: multidict<7.0,>=4.5 in d:\\anaconda3\\envs\\master\\lib\\site-packages (from aiohttp->datasets) (6.0.4)\n",
      "Requirement already satisfied: yarl<2.0,>=1.0 in d:\\anaconda3\\envs\\master\\lib\\site-packages (from aiohttp->datasets) (1.9.3)\n",
      "Requirement already satisfied: async-timeout<5.0,>=4.0 in d:\\anaconda3\\envs\\master\\lib\\site-packages (from aiohttp->datasets) (4.0.3)\n",
      "Requirement already satisfied: filelock in d:\\anaconda3\\envs\\master\\lib\\site-packages (from huggingface-hub<1.0.0,>=0.11.0->datasets) (3.13.1)\n",
      "Requirement already satisfied: typing-extensions>=3.7.4.3 in d:\\anaconda3\\envs\\master\\lib\\site-packages (from huggingface-hub<1.0.0,>=0.11.0->datasets) (4.9.0)\n",
      "Requirement already satisfied: charset-normalizer<4,>=2 in d:\\anaconda3\\envs\\master\\lib\\site-packages (from requests>=2.19.0->datasets) (2.0.4)\n",
      "Requirement already satisfied: idna<4,>=2.5 in d:\\anaconda3\\envs\\master\\lib\\site-packages (from requests>=2.19.0->datasets) (3.4)\n",
      "Requirement already satisfied: urllib3<3,>=1.21.1 in d:\\anaconda3\\envs\\master\\lib\\site-packages (from requests>=2.19.0->datasets) (2.1.0)\n",
      "Requirement already satisfied: certifi>=2017.4.17 in d:\\anaconda3\\envs\\master\\lib\\site-packages (from requests>=2.19.0->datasets) (2024.8.30)\n",
      "Requirement already satisfied: six in d:\\anaconda3\\envs\\master\\lib\\site-packages (from responses<0.19->datasets) (1.16.0)\n",
      "Requirement already satisfied: colorama in d:\\anaconda3\\envs\\master\\lib\\site-packages (from tqdm>=4.62.1->datasets) (0.4.6)\n",
      "Requirement already satisfied: python-dateutil>=2.8.1 in d:\\anaconda3\\envs\\master\\lib\\site-packages (from pandas->datasets) (2.8.2)\n",
      "Requirement already satisfied: pytz>=2020.1 in d:\\anaconda3\\envs\\master\\lib\\site-packages (from pandas->datasets) (2023.3.post1)\n"
     ]
    }
   ],
   "execution_count": 7
  },
  {
   "cell_type": "code",
   "id": "b7003178-f0db-4649-a932-d4edb41fa26e",
   "metadata": {
    "ExecuteTime": {
     "end_time": "2024-11-07T10:48:59.591862Z",
     "start_time": "2024-11-07T10:48:53.546407Z"
    }
   },
   "source": [
    "import mlflow\n",
    "import mlflow.pytorch\n",
    "from transformers import GPT2LMHeadModel, GPT2Tokenizer\n",
    "import pandas as pd\n",
    "from datasets import Dataset\n",
    "from sklearn.model_selection import train_test_split\n",
    "import os"
   ],
   "outputs": [],
   "execution_count": 8
  },
  {
   "metadata": {},
   "cell_type": "code",
   "outputs": [],
   "execution_count": null,
   "source": "",
   "id": "32ff108fafa32ed6"
  },
  {
   "cell_type": "markdown",
   "id": "b59d13ff-bec8-40ef-b1d0-bdf623d5bb2b",
   "metadata": {},
   "source": [
    "# Désactiver wandb"
   ]
  },
  {
   "cell_type": "code",
   "id": "c5fedbe7-a1a7-4e0c-ab89-9332e34d20e5",
   "metadata": {
    "ExecuteTime": {
     "end_time": "2024-11-07T10:50:39.834516Z",
     "start_time": "2024-11-07T10:50:39.820563Z"
    }
   },
   "source": "os.environ['WANDB_DISABLED'] = 'true'",
   "outputs": [],
   "execution_count": 9
  },
  {
   "metadata": {
    "ExecuteTime": {
     "end_time": "2024-11-07T11:32:54.093218Z",
     "start_time": "2024-11-07T11:32:54.068531Z"
    }
   },
   "cell_type": "code",
   "source": [
    "mlflow.set_tracking_uri('/mlruns')\n",
    "mlflow_id = mlflow.create_experiment('Chatbot')\n",
    "mlflow.set_experiment('Chatbot')"
   ],
   "id": "4328f8e6f122be09",
   "outputs": [
    {
     "data": {
      "text/plain": [
       "<Experiment: artifact_location='file:///D:/mlruns/733077457359228028', creation_time=1730979174079, experiment_id='733077457359228028', last_update_time=1730979174079, lifecycle_stage='active', name='Chatbot', tags={}>"
      ]
     },
     "execution_count": 108,
     "metadata": {},
     "output_type": "execute_result"
    }
   ],
   "execution_count": 108
  },
  {
   "cell_type": "markdown",
   "id": "ecb7f744-ec1c-455f-9805-a9ebd2e7efc3",
   "metadata": {},
   "source": [
    "# Charger les données d'entraînement et créer une colonne 'text'"
   ]
  },
  {
   "metadata": {
    "ExecuteTime": {
     "end_time": "2024-11-07T10:59:44.280386Z",
     "start_time": "2024-11-07T10:59:44.270419Z"
    }
   },
   "cell_type": "code",
   "source": [
    "df['text'] = [' '] * len(df)\n",
    "df"
   ],
   "id": "4f22748059d8fbc7",
   "outputs": [
    {
     "data": {
      "text/plain": [
       "                                   question  \\\n",
       "0                            what is mlops    \n",
       "1                   why is mlops important    \n",
       "2                     what is a data drift    \n",
       "3        how does versioning work in mlops    \n",
       "4                 what is a model registry    \n",
       "5  how can i monitor a model in production    \n",
       "6            what is the purpose of docker    \n",
       "7                 what are ci cd pipelines    \n",
       "8                           why use mlflow    \n",
       "9     how does fastapi work with ml models    \n",
       "\n",
       "                                                                                    answer  \\\n",
       "0                mlops is a set of practices to streamline the machine learning lifecycle    \n",
       "1               mlops helps in scaling monitoring and maintaining ml models in production    \n",
       "2        data drift is a change in the statistical properties of the input data over time    \n",
       "3     versioning allows you to track and manage different versions of models and datasets    \n",
       "4           a model registry is a centralized storage for keeping track of model versions    \n",
       "5         by tracking metrics like accuracy latency and detecting data drift in real time    \n",
       "6                 docker helps in creating reproducible environments for model deployment    \n",
       "7                  ci cd pipelines automate the testing and deployment of code and models    \n",
       "8      mlflow tracks experiments manages models and facilitates reproducible ml workflows    \n",
       "9  fastapi allows you to build an api for serving ml models to interact with applications    \n",
       "\n",
       "  text  \n",
       "0       \n",
       "1       \n",
       "2       \n",
       "3       \n",
       "4       \n",
       "5       \n",
       "6       \n",
       "7       \n",
       "8       \n",
       "9       "
      ],
      "text/html": [
       "<div>\n",
       "<style scoped>\n",
       "    .dataframe tbody tr th:only-of-type {\n",
       "        vertical-align: middle;\n",
       "    }\n",
       "\n",
       "    .dataframe tbody tr th {\n",
       "        vertical-align: top;\n",
       "    }\n",
       "\n",
       "    .dataframe thead th {\n",
       "        text-align: right;\n",
       "    }\n",
       "</style>\n",
       "<table border=\"1\" class=\"dataframe\">\n",
       "  <thead>\n",
       "    <tr style=\"text-align: right;\">\n",
       "      <th></th>\n",
       "      <th>question</th>\n",
       "      <th>answer</th>\n",
       "      <th>text</th>\n",
       "    </tr>\n",
       "  </thead>\n",
       "  <tbody>\n",
       "    <tr>\n",
       "      <th>0</th>\n",
       "      <td>what is mlops</td>\n",
       "      <td>mlops is a set of practices to streamline the machine learning lifecycle</td>\n",
       "      <td></td>\n",
       "    </tr>\n",
       "    <tr>\n",
       "      <th>1</th>\n",
       "      <td>why is mlops important</td>\n",
       "      <td>mlops helps in scaling monitoring and maintaining ml models in production</td>\n",
       "      <td></td>\n",
       "    </tr>\n",
       "    <tr>\n",
       "      <th>2</th>\n",
       "      <td>what is a data drift</td>\n",
       "      <td>data drift is a change in the statistical properties of the input data over time</td>\n",
       "      <td></td>\n",
       "    </tr>\n",
       "    <tr>\n",
       "      <th>3</th>\n",
       "      <td>how does versioning work in mlops</td>\n",
       "      <td>versioning allows you to track and manage different versions of models and datasets</td>\n",
       "      <td></td>\n",
       "    </tr>\n",
       "    <tr>\n",
       "      <th>4</th>\n",
       "      <td>what is a model registry</td>\n",
       "      <td>a model registry is a centralized storage for keeping track of model versions</td>\n",
       "      <td></td>\n",
       "    </tr>\n",
       "    <tr>\n",
       "      <th>5</th>\n",
       "      <td>how can i monitor a model in production</td>\n",
       "      <td>by tracking metrics like accuracy latency and detecting data drift in real time</td>\n",
       "      <td></td>\n",
       "    </tr>\n",
       "    <tr>\n",
       "      <th>6</th>\n",
       "      <td>what is the purpose of docker</td>\n",
       "      <td>docker helps in creating reproducible environments for model deployment</td>\n",
       "      <td></td>\n",
       "    </tr>\n",
       "    <tr>\n",
       "      <th>7</th>\n",
       "      <td>what are ci cd pipelines</td>\n",
       "      <td>ci cd pipelines automate the testing and deployment of code and models</td>\n",
       "      <td></td>\n",
       "    </tr>\n",
       "    <tr>\n",
       "      <th>8</th>\n",
       "      <td>why use mlflow</td>\n",
       "      <td>mlflow tracks experiments manages models and facilitates reproducible ml workflows</td>\n",
       "      <td></td>\n",
       "    </tr>\n",
       "    <tr>\n",
       "      <th>9</th>\n",
       "      <td>how does fastapi work with ml models</td>\n",
       "      <td>fastapi allows you to build an api for serving ml models to interact with applications</td>\n",
       "      <td></td>\n",
       "    </tr>\n",
       "  </tbody>\n",
       "</table>\n",
       "</div>"
      ]
     },
     "execution_count": 27,
     "metadata": {},
     "output_type": "execute_result"
    }
   ],
   "execution_count": 27
  },
  {
   "cell_type": "code",
   "id": "587bc9b0-9c1a-42db-a09d-e486da995ac0",
   "metadata": {
    "ExecuteTime": {
     "end_time": "2024-11-07T11:23:39.846867Z",
     "start_time": "2024-11-07T11:23:39.838753Z"
    }
   },
   "source": [
    "text_train = pd.read_csv('data/train_data.csv')\n",
    "text_train['text'] = text_train['question'] + text_train['answer']\n",
    "text_train = text_train.drop(columns=['question', 'answer', 'Unnamed: 0'])"
   ],
   "outputs": [],
   "execution_count": 85
  },
  {
   "cell_type": "markdown",
   "id": "add227f9-b001-4097-b724-ed5b6b474e5b",
   "metadata": {},
   "source": [
    "# Diviser les données en ensembles d'entraînement et de validation"
   ]
  },
  {
   "cell_type": "code",
   "id": "7ad181bb-4783-41d2-b6d2-390706df59bc",
   "metadata": {
    "ExecuteTime": {
     "end_time": "2024-11-07T11:23:54.272914Z",
     "start_time": "2024-11-07T11:23:54.258952Z"
    }
   },
   "source": [
    "text_train, text_val = train_test_split(text_train, train_size=0.8, random_state=42)\n",
    "# X_train, y_train = text_train[:, 0], text_train[:, 1]\n",
    "# X_val, y_val = text_val[:, 0], text_val[:, 1]"
   ],
   "outputs": [],
   "execution_count": 86
  },
  {
   "metadata": {
    "ExecuteTime": {
     "end_time": "2024-11-07T11:23:57.635631Z",
     "start_time": "2024-11-07T11:23:57.626660Z"
    }
   },
   "cell_type": "code",
   "source": "text_train",
   "id": "c142c925428922e1",
   "outputs": [
    {
     "data": {
      "text/plain": [
       "                                                                                                                           text\n",
       "0      how can i monitor a model in production by tracking metrics like accuracy latency and detecting data drift in real time \n",
       "7                        what is the purpose of docker docker helps in creating reproducible environments for model deployment \n",
       "2                              what are ci cd pipelines ci cd pipelines automate the testing and deployment of code and models \n",
       "4  how does fastapi work with ml models fastapi allows you to build an api for serving ml models to interact with applications \n",
       "3                        what is a data drift data drift is a change in the statistical properties of the input data over time \n",
       "6        how does versioning work in mlops versioning allows you to track and manage different versions of models and datasets "
      ],
      "text/html": [
       "<div>\n",
       "<style scoped>\n",
       "    .dataframe tbody tr th:only-of-type {\n",
       "        vertical-align: middle;\n",
       "    }\n",
       "\n",
       "    .dataframe tbody tr th {\n",
       "        vertical-align: top;\n",
       "    }\n",
       "\n",
       "    .dataframe thead th {\n",
       "        text-align: right;\n",
       "    }\n",
       "</style>\n",
       "<table border=\"1\" class=\"dataframe\">\n",
       "  <thead>\n",
       "    <tr style=\"text-align: right;\">\n",
       "      <th></th>\n",
       "      <th>text</th>\n",
       "    </tr>\n",
       "  </thead>\n",
       "  <tbody>\n",
       "    <tr>\n",
       "      <th>0</th>\n",
       "      <td>how can i monitor a model in production by tracking metrics like accuracy latency and detecting data drift in real time</td>\n",
       "    </tr>\n",
       "    <tr>\n",
       "      <th>7</th>\n",
       "      <td>what is the purpose of docker docker helps in creating reproducible environments for model deployment</td>\n",
       "    </tr>\n",
       "    <tr>\n",
       "      <th>2</th>\n",
       "      <td>what are ci cd pipelines ci cd pipelines automate the testing and deployment of code and models</td>\n",
       "    </tr>\n",
       "    <tr>\n",
       "      <th>4</th>\n",
       "      <td>how does fastapi work with ml models fastapi allows you to build an api for serving ml models to interact with applications</td>\n",
       "    </tr>\n",
       "    <tr>\n",
       "      <th>3</th>\n",
       "      <td>what is a data drift data drift is a change in the statistical properties of the input data over time</td>\n",
       "    </tr>\n",
       "    <tr>\n",
       "      <th>6</th>\n",
       "      <td>how does versioning work in mlops versioning allows you to track and manage different versions of models and datasets</td>\n",
       "    </tr>\n",
       "  </tbody>\n",
       "</table>\n",
       "</div>"
      ]
     },
     "execution_count": 87,
     "metadata": {},
     "output_type": "execute_result"
    }
   ],
   "execution_count": 87
  },
  {
   "cell_type": "markdown",
   "id": "2d1c36ab-7c46-4f3d-8484-7a0110ec68b7",
   "metadata": {},
   "source": [
    "# Convertir en Dataset et supprimer les colonnes inutiles"
   ]
  },
  {
   "cell_type": "code",
   "id": "41655610-70e4-4d8b-ac59-ec7dbbe856b0",
   "metadata": {
    "ExecuteTime": {
     "end_time": "2024-11-07T11:24:17.390542Z",
     "start_time": "2024-11-07T11:24:17.376589Z"
    }
   },
   "source": [
    "train_dataset = Dataset.from_pandas(text_train)\n",
    "\n",
    "val_dataset = Dataset.from_pandas(text_val)"
   ],
   "outputs": [],
   "execution_count": 88
  },
  {
   "cell_type": "markdown",
   "id": "2e01ad82-7c14-4a8b-a3c7-397b314e65f8",
   "metadata": {},
   "source": [
    "# Charger le modèle et le tokenizer, et définir un token de remplissage"
   ]
  },
  {
   "cell_type": "code",
   "id": "13c77506-2c21-40b9-a9d5-d3eb412df8f3",
   "metadata": {
    "ExecuteTime": {
     "end_time": "2024-11-07T11:09:04.907856Z",
     "start_time": "2024-11-07T11:08:30.238524Z"
    }
   },
   "source": [
    "model = GPT2LMHeadModel.from_pretrained('gpt2')\n",
    "tokenizer = GPT2Tokenizer.from_pretrained('gpt2')"
   ],
   "outputs": [
    {
     "data": {
      "text/plain": [
       "config.json:   0%|          | 0.00/665 [00:00<?, ?B/s]"
      ],
      "application/vnd.jupyter.widget-view+json": {
       "version_major": 2,
       "version_minor": 0,
       "model_id": "5dc5ee34b36a4f9bb7641b09b3193b1e"
      }
     },
     "metadata": {},
     "output_type": "display_data"
    },
    {
     "name": "stderr",
     "output_type": "stream",
     "text": [
      "D:\\anaconda3\\envs\\master\\lib\\site-packages\\huggingface_hub\\file_download.py:149: UserWarning: `huggingface_hub` cache-system uses symlinks by default to efficiently store duplicated files but your machine does not support them in C:\\Users\\eeko\\.cache\\huggingface\\hub\\models--gpt2. Caching files will still work but in a degraded version that might require more space on your disk. This warning can be disabled by setting the `HF_HUB_DISABLE_SYMLINKS_WARNING` environment variable. For more details, see https://huggingface.co/docs/huggingface_hub/how-to-cache#limitations.\n",
      "To support symlinks on Windows, you either need to activate Developer Mode or to run Python as an administrator. In order to see activate developer mode, see this article: https://docs.microsoft.com/en-us/windows/apps/get-started/enable-your-device-for-development\n",
      "  warnings.warn(message)\n"
     ]
    },
    {
     "data": {
      "text/plain": [
       "model.safetensors:   0%|          | 0.00/548M [00:00<?, ?B/s]"
      ],
      "application/vnd.jupyter.widget-view+json": {
       "version_major": 2,
       "version_minor": 0,
       "model_id": "403d6480794c4b08985d67ba331808ec"
      }
     },
     "metadata": {},
     "output_type": "display_data"
    },
    {
     "data": {
      "text/plain": [
       "generation_config.json:   0%|          | 0.00/124 [00:00<?, ?B/s]"
      ],
      "application/vnd.jupyter.widget-view+json": {
       "version_major": 2,
       "version_minor": 0,
       "model_id": "132aa855f3c74afa8b1367f8445c21ba"
      }
     },
     "metadata": {},
     "output_type": "display_data"
    },
    {
     "data": {
      "text/plain": [
       "tokenizer_config.json:   0%|          | 0.00/26.0 [00:00<?, ?B/s]"
      ],
      "application/vnd.jupyter.widget-view+json": {
       "version_major": 2,
       "version_minor": 0,
       "model_id": "ae3ed25544164e449034196f8e89d329"
      }
     },
     "metadata": {},
     "output_type": "display_data"
    },
    {
     "data": {
      "text/plain": [
       "vocab.json:   0%|          | 0.00/1.04M [00:00<?, ?B/s]"
      ],
      "application/vnd.jupyter.widget-view+json": {
       "version_major": 2,
       "version_minor": 0,
       "model_id": "a938aa68e9a4433d81f83b772083a70c"
      }
     },
     "metadata": {},
     "output_type": "display_data"
    },
    {
     "data": {
      "text/plain": [
       "merges.txt:   0%|          | 0.00/456k [00:00<?, ?B/s]"
      ],
      "application/vnd.jupyter.widget-view+json": {
       "version_major": 2,
       "version_minor": 0,
       "model_id": "081b7c87bacc44d7b0a24b08d072d92a"
      }
     },
     "metadata": {},
     "output_type": "display_data"
    },
    {
     "data": {
      "text/plain": [
       "tokenizer.json:   0%|          | 0.00/1.36M [00:00<?, ?B/s]"
      ],
      "application/vnd.jupyter.widget-view+json": {
       "version_major": 2,
       "version_minor": 0,
       "model_id": "02954a0a97bf4f00bf21794a689c2fdd"
      }
     },
     "metadata": {},
     "output_type": "display_data"
    }
   ],
   "execution_count": 41
  },
  {
   "cell_type": "markdown",
   "id": "079946ad-7257-4fbf-bff8-6084c710d8a2",
   "metadata": {},
   "source": [
    "# Tokeniser le dataset avec les labels"
   ]
  },
  {
   "metadata": {
    "ExecuteTime": {
     "end_time": "2024-11-07T11:24:21.583072Z",
     "start_time": "2024-11-07T11:24:21.573109Z"
    }
   },
   "cell_type": "code",
   "source": "tokenizer.pad_token = '[PAD]'",
   "id": "9ee726b21e75250",
   "outputs": [],
   "execution_count": 89
  },
  {
   "metadata": {
    "ExecuteTime": {
     "end_time": "2024-11-07T11:33:07.861352Z",
     "start_time": "2024-11-07T11:33:07.221594Z"
    }
   },
   "cell_type": "code",
   "source": [
    "with mlflow.start_run():\n",
    "    tokenized = tokenizer(train_dataset['text'], padding=True, return_tensors='pt')\n",
    "    output = model(**tokenized, labels=tokenized['input_ids'])"
   ],
   "id": "fee4dc44a2d66791",
   "outputs": [],
   "execution_count": 109
  },
  {
   "metadata": {
    "ExecuteTime": {
     "end_time": "2024-11-07T11:35:18.700627Z",
     "start_time": "2024-11-07T11:34:13.998530Z"
    }
   },
   "cell_type": "code",
   "source": "!mlflow ui",
   "id": "abb62f86d6422e3c",
   "outputs": [
    {
     "name": "stdout",
     "output_type": "stream",
     "text": [
      "^C\n"
     ]
    }
   ],
   "execution_count": 110
  },
  {
   "metadata": {
    "ExecuteTime": {
     "end_time": "2024-11-07T11:27:07.447765Z",
     "start_time": "2024-11-07T11:27:07.437798Z"
    }
   },
   "cell_type": "code",
   "source": "output.logits.shape",
   "id": "3f3753724fd5e23d",
   "outputs": [
    {
     "data": {
      "text/plain": [
       "torch.Size([6, 25, 50257])"
      ]
     },
     "execution_count": 104,
     "metadata": {},
     "output_type": "execute_result"
    }
   ],
   "execution_count": 104
  },
  {
   "cell_type": "markdown",
   "id": "9b6b721e-263b-4238-ae51-2a9f760aeb52",
   "metadata": {},
   "source": [
    "# Définir les arguments d'entraînement"
   ]
  },
  {
   "cell_type": "code",
   "id": "af847d63-f702-4a65-a328-fe4b0fa42a62",
   "metadata": {
    "ExecuteTime": {
     "end_time": "2024-11-07T11:27:45.175337Z",
     "start_time": "2024-11-07T11:27:45.130744Z"
    }
   },
   "source": "from transformers import Trainer, TrainingArguments\n",
   "outputs": [],
   "execution_count": 105
  },
  {
   "cell_type": "markdown",
   "id": "28ea571a-0da1-47a6-9195-b18ed2c2bb09",
   "metadata": {},
   "source": [
    "# Configurer MLflow pour pointer vers votre serveur local"
   ]
  },
  {
   "cell_type": "code",
   "id": "dddff9ce-903c-4927-93b3-814979a1daad",
   "metadata": {
    "ExecuteTime": {
     "end_time": "2024-11-07T10:48:59.836386Z",
     "start_time": "2024-11-07T10:48:59.822395Z"
    }
   },
   "source": [],
   "outputs": [],
   "execution_count": null
  },
  {
   "cell_type": "markdown",
   "id": "61bbd3d0-4552-4ae2-a807-c5baec9624de",
   "metadata": {},
   "source": [
    "# Initialiser le Trainer"
   ]
  },
  {
   "cell_type": "code",
   "id": "073b9670-b371-45d4-8423-323184c0848d",
   "metadata": {
    "ExecuteTime": {
     "end_time": "2024-11-07T10:48:59.867921Z",
     "start_time": "2024-11-07T10:48:59.854037Z"
    }
   },
   "source": [],
   "outputs": [],
   "execution_count": null
  },
  {
   "cell_type": "markdown",
   "id": "6118ca3f-16c2-488e-9609-f135813ebd9a",
   "metadata": {},
   "source": [
    "# Entraîner le modèle et enregistrer avec MLflow"
   ]
  },
  {
   "cell_type": "code",
   "id": "5d695554-47cc-41c4-80dd-e951dc4db160",
   "metadata": {
    "ExecuteTime": {
     "end_time": "2024-11-07T10:48:59.898616Z",
     "start_time": "2024-11-07T10:48:59.885346Z"
    }
   },
   "source": [],
   "outputs": [],
   "execution_count": null
  },
  {
   "cell_type": "markdown",
   "id": "c9549d35-cb8e-4578-9ffc-a682082af256",
   "metadata": {},
   "source": [
    "  # Log des paramètres et du modèle dans MLflow"
   ]
  },
  {
   "cell_type": "code",
   "id": "3855f1f3-18dd-4130-8af6-84e76370f5e9",
   "metadata": {
    "ExecuteTime": {
     "end_time": "2024-11-07T10:48:59.929093Z",
     "start_time": "2024-11-07T10:48:59.915177Z"
    }
   },
   "source": [],
   "outputs": [],
   "execution_count": null
  }
 ],
 "metadata": {
  "kernelspec": {
   "display_name": "Python 3 (ipykernel)",
   "language": "python",
   "name": "python3"
  },
  "language_info": {
   "codemirror_mode": {
    "name": "ipython",
    "version": 3
   },
   "file_extension": ".py",
   "mimetype": "text/x-python",
   "name": "python",
   "nbconvert_exporter": "python",
   "pygments_lexer": "ipython3",
   "version": "3.12.3"
  }
 },
 "nbformat": 4,
 "nbformat_minor": 5
}
