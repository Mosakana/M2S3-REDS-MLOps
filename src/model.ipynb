{
 "cells": [
  {
   "cell_type": "raw",
   "id": "36285be6-fe6a-4f76-8f64-9fef59260dca",
   "metadata": {},
   "source": [
    "# TP MLOps – Cycle de vie d'un Chatbot avec un Modèle de Langage\n",
    "\n",
    "Étape 1 : Préparation des données \n",
    "\n",
    "Vous disposez d’un fichier de données de type FAQ ou dialogue, que nous utiliserons pour entraîner un chatbot. Commencez par explorer les données, puis effectuez le nettoyage et le prétraitement. Séparez les données en ensembles d’entraînement et de test.\n",
    "\n",
    "Tâche 1 : Exploration des données\n",
    "\n",
    "Chargez les données et examinez la structure (affichez quelques lignes pour comprendre le contenu).\n",
    "Tâche 2 : Nettoyage et prétraitement\n",
    "\n",
    "Mettez le texte en minuscules, supprimez les ponctuations et effectuez une tokenisation si nécessaire.\n",
    "Tâche 3 : Séparation des ensembles\n",
    "\n",
    "Séparez les données en un ensemble d’entraînement (80 %) et un ensemble de test (20 %)."
   ]
  },
  {
   "cell_type": "markdown",
   "id": "3e4cbac7-0b07-4fd3-96ce-fdcdb301ee42",
   "metadata": {},
   "source": [
    "modules nécessaire pandas scikit-learn"
   ]
  },
  {
   "cell_type": "code",
   "id": "9816ff16-2911-4e93-afb7-2cc6462279bb",
   "metadata": {
    "ExecuteTime": {
     "end_time": "2024-11-21T10:56:52.578976Z",
     "start_time": "2024-11-21T10:56:52.573825Z"
    }
   },
   "source": [
    "import pandas as pd\n",
    "from scipy.ndimage import label\n",
    "from sklearn.model_selection import train_test_split"
   ],
   "outputs": [],
   "execution_count": 25
  },
  {
   "cell_type": "markdown",
   "id": "b52d3076-f2cc-4d84-96c1-a7fb64ed9c1a",
   "metadata": {},
   "source": [
    "# Chargement des données"
   ]
  },
  {
   "cell_type": "code",
   "id": "ef61d16e-1a5b-44bc-ab42-e6505fc325e2",
   "metadata": {
    "ExecuteTime": {
     "end_time": "2024-11-21T10:56:52.619088Z",
     "start_time": "2024-11-21T10:56:52.606418Z"
    }
   },
   "source": [
    "df = pd.read_csv('../data/faq_data.csv')\n",
    "X = df['question']\n",
    "y = df['answer']"
   ],
   "outputs": [],
   "execution_count": 26
  },
  {
   "cell_type": "markdown",
   "id": "05075962-20b0-4348-a49e-21a90e2ddd7f",
   "metadata": {},
   "source": [
    "# Nettoyage des colonnes 'question' et 'answer' en minuscules et suppression des ponctuations"
   ]
  },
  {
   "metadata": {
    "ExecuteTime": {
     "end_time": "2024-11-21T10:56:52.666596Z",
     "start_time": "2024-11-21T10:56:52.655616Z"
    }
   },
   "cell_type": "code",
   "source": [
    "import string\n",
    "import re\n",
    "def remove_punctuation(doc: str):\n",
    "    punc = string.punctuation\n",
    "    punc += '\\n\\r\\t'\n",
    "    return re.sub(' +', ' ', doc.translate(str.maketrans(punc, ' ' * len(punc))))\n",
    "    "
   ],
   "id": "e528894a61b766bf",
   "outputs": [],
   "execution_count": 27
  },
  {
   "cell_type": "code",
   "id": "bd6f058b-330b-47a4-884c-68346c0aa671",
   "metadata": {
    "ExecuteTime": {
     "end_time": "2024-11-21T10:56:52.711149Z",
     "start_time": "2024-11-21T10:56:52.697372Z"
    }
   },
   "source": [
    "df = df.applymap(str.lower).applymap(remove_punctuation)\n",
    "df"
   ],
   "outputs": [
    {
     "name": "stderr",
     "output_type": "stream",
     "text": [
      "C:\\Users\\eeko\\AppData\\Local\\Temp\\ipykernel_11064\\1020682493.py:1: FutureWarning: DataFrame.applymap has been deprecated. Use DataFrame.map instead.\n",
      "  df = df.applymap(str.lower).applymap(remove_punctuation)\n"
     ]
    },
    {
     "data": {
      "text/plain": [
       "                                   question  \\\n",
       "0                            what is mlops    \n",
       "1                   why is mlops important    \n",
       "2                     what is a data drift    \n",
       "3        how does versioning work in mlops    \n",
       "4                 what is a model registry    \n",
       "5  how can i monitor a model in production    \n",
       "6            what is the purpose of docker    \n",
       "7                 what are ci cd pipelines    \n",
       "8                           why use mlflow    \n",
       "9     how does fastapi work with ml models    \n",
       "\n",
       "                                              answer  \n",
       "0  mlops is a set of practices to streamline the ...  \n",
       "1  mlops helps in scaling monitoring and maintain...  \n",
       "2  data drift is a change in the statistical prop...  \n",
       "3  versioning allows you to track and manage diff...  \n",
       "4  a model registry is a centralized storage for ...  \n",
       "5  by tracking metrics like accuracy latency and ...  \n",
       "6  docker helps in creating reproducible environm...  \n",
       "7  ci cd pipelines automate the testing and deplo...  \n",
       "8  mlflow tracks experiments manages models and f...  \n",
       "9  fastapi allows you to build an api for serving...  "
      ],
      "text/html": [
       "<div>\n",
       "<style scoped>\n",
       "    .dataframe tbody tr th:only-of-type {\n",
       "        vertical-align: middle;\n",
       "    }\n",
       "\n",
       "    .dataframe tbody tr th {\n",
       "        vertical-align: top;\n",
       "    }\n",
       "\n",
       "    .dataframe thead th {\n",
       "        text-align: right;\n",
       "    }\n",
       "</style>\n",
       "<table border=\"1\" class=\"dataframe\">\n",
       "  <thead>\n",
       "    <tr style=\"text-align: right;\">\n",
       "      <th></th>\n",
       "      <th>question</th>\n",
       "      <th>answer</th>\n",
       "    </tr>\n",
       "  </thead>\n",
       "  <tbody>\n",
       "    <tr>\n",
       "      <th>0</th>\n",
       "      <td>what is mlops</td>\n",
       "      <td>mlops is a set of practices to streamline the ...</td>\n",
       "    </tr>\n",
       "    <tr>\n",
       "      <th>1</th>\n",
       "      <td>why is mlops important</td>\n",
       "      <td>mlops helps in scaling monitoring and maintain...</td>\n",
       "    </tr>\n",
       "    <tr>\n",
       "      <th>2</th>\n",
       "      <td>what is a data drift</td>\n",
       "      <td>data drift is a change in the statistical prop...</td>\n",
       "    </tr>\n",
       "    <tr>\n",
       "      <th>3</th>\n",
       "      <td>how does versioning work in mlops</td>\n",
       "      <td>versioning allows you to track and manage diff...</td>\n",
       "    </tr>\n",
       "    <tr>\n",
       "      <th>4</th>\n",
       "      <td>what is a model registry</td>\n",
       "      <td>a model registry is a centralized storage for ...</td>\n",
       "    </tr>\n",
       "    <tr>\n",
       "      <th>5</th>\n",
       "      <td>how can i monitor a model in production</td>\n",
       "      <td>by tracking metrics like accuracy latency and ...</td>\n",
       "    </tr>\n",
       "    <tr>\n",
       "      <th>6</th>\n",
       "      <td>what is the purpose of docker</td>\n",
       "      <td>docker helps in creating reproducible environm...</td>\n",
       "    </tr>\n",
       "    <tr>\n",
       "      <th>7</th>\n",
       "      <td>what are ci cd pipelines</td>\n",
       "      <td>ci cd pipelines automate the testing and deplo...</td>\n",
       "    </tr>\n",
       "    <tr>\n",
       "      <th>8</th>\n",
       "      <td>why use mlflow</td>\n",
       "      <td>mlflow tracks experiments manages models and f...</td>\n",
       "    </tr>\n",
       "    <tr>\n",
       "      <th>9</th>\n",
       "      <td>how does fastapi work with ml models</td>\n",
       "      <td>fastapi allows you to build an api for serving...</td>\n",
       "    </tr>\n",
       "  </tbody>\n",
       "</table>\n",
       "</div>"
      ]
     },
     "execution_count": 28,
     "metadata": {},
     "output_type": "execute_result"
    }
   ],
   "execution_count": 28
  },
  {
   "cell_type": "markdown",
   "id": "909908ec-7726-4bc1-95c3-a9adf87c6d26",
   "metadata": {},
   "source": [
    "# Séparation en ensembles d'entraînement et de test"
   ]
  },
  {
   "cell_type": "code",
   "id": "3128ed49-e305-4abf-919c-547171338c1c",
   "metadata": {
    "ExecuteTime": {
     "end_time": "2024-11-21T10:56:52.799605Z",
     "start_time": "2024-11-21T10:56:52.793770Z"
    }
   },
   "source": "df_train, df_test = train_test_split(df, test_size=0.2, random_state=42)",
   "outputs": [],
   "execution_count": 29
  },
  {
   "cell_type": "markdown",
   "id": "5ead004c-4c8f-4179-bcab-87e737888127",
   "metadata": {},
   "source": [
    "# Sauvegarde des versions de données\n",
    "data/train_data.csv\n",
    "data/test_data.csv"
   ]
  },
  {
   "cell_type": "code",
   "id": "b9599fbf-8502-4797-aae1-e8ca0e8c4db9",
   "metadata": {
    "ExecuteTime": {
     "end_time": "2024-11-21T10:56:52.883257Z",
     "start_time": "2024-11-21T10:56:52.875121Z"
    }
   },
   "source": [
    "df_train.to_csv('../data/train_data.csv')\n",
    "df_test.to_csv('../data/test_data.csv')"
   ],
   "outputs": [],
   "execution_count": 30
  },
  {
   "cell_type": "markdown",
   "id": "25875cae-0576-4c1a-ade1-691bd0bd6b95",
   "metadata": {},
   "source": [
    "### Étape 2 : Entraînement du modèle \n",
    "\n",
    "Entraînez un modèle de langage de type LLM sur les données d’entraînement. Suivez les expérimentations avec MLflow pour enregistrer les hyperparamètres et les performances du modèle.\n",
    "\n",
    "### Tâche 1 : Entraînement du modèle\n",
    "\n",
    "Utilisez un modèle préentraîné (par exemple, GPT-2 de Hugging Face).\n",
    "Entraînez le modèle sur l'ensemble d'entraînement, en suivant les hyperparamètres et les métriques de performance.\n",
    "Tâche 2 : Suivi des expérimentations avec MLflow\n",
    "\n",
    "Créez une nouvelle expérience dans MLflow et enregistrez les paramètres, métriques, et le modèle."
   ]
  },
  {
   "cell_type": "markdown",
   "id": "8374b36a-1bd7-4b44-9105-f5f38e4f0d79",
   "metadata": {},
   "source": [
    "modules nécessaire mlflow transformers[torch] datasets"
   ]
  },
  {
   "cell_type": "code",
   "id": "ff66396d-e6ed-4774-805e-8f6ca6f1c0a8",
   "metadata": {
    "ExecuteTime": {
     "end_time": "2024-11-21T10:56:52.987199Z",
     "start_time": "2024-11-21T10:56:52.983175Z"
    }
   },
   "source": "",
   "outputs": [],
   "execution_count": null
  },
  {
   "cell_type": "markdown",
   "id": "c00d9173-c9bf-4de5-a1d5-21ac01781185",
   "metadata": {},
   "source": [
    "# Activation mlflow server avec backend-store-uri sqlite default-artifact-root file:/home/$USER/mlops/2024/mlruns ip et port à définir"
   ]
  },
  {
   "cell_type": "code",
   "id": "b7003178-f0db-4649-a932-d4edb41fa26e",
   "metadata": {
    "ExecuteTime": {
     "end_time": "2024-11-21T10:56:53.027913Z",
     "start_time": "2024-11-21T10:56:53.015626Z"
    }
   },
   "source": [
    "import mlflow\n",
    "import mlflow.pytorch\n",
    "from transformers import GPT2LMHeadModel, GPT2Tokenizer\n",
    "import pandas as pd\n",
    "from datasets import Dataset\n",
    "from sklearn.model_selection import train_test_split\n",
    "import os"
   ],
   "outputs": [],
   "execution_count": 31
  },
  {
   "cell_type": "markdown",
   "id": "b59d13ff-bec8-40ef-b1d0-bdf623d5bb2b",
   "metadata": {},
   "source": [
    "# Désactiver wandb"
   ]
  },
  {
   "cell_type": "code",
   "id": "c5fedbe7-a1a7-4e0c-ab89-9332e34d20e5",
   "metadata": {
    "ExecuteTime": {
     "end_time": "2024-11-21T10:56:53.052217Z",
     "start_time": "2024-11-21T10:56:53.048383Z"
    }
   },
   "source": "os.environ['WANDB_DISABLED'] = 'true'",
   "outputs": [],
   "execution_count": 32
  },
  {
   "cell_type": "markdown",
   "id": "ecb7f744-ec1c-455f-9805-a9ebd2e7efc3",
   "metadata": {},
   "source": [
    "# Charger les données d'entraînement et créer une colonne 'text'"
   ]
  },
  {
   "metadata": {
    "ExecuteTime": {
     "end_time": "2024-11-21T10:56:53.102423Z",
     "start_time": "2024-11-21T10:56:53.088637Z"
    }
   },
   "cell_type": "code",
   "source": [
    "df['text'] = [' '] * len(df)\n",
    "df"
   ],
   "id": "4f22748059d8fbc7",
   "outputs": [
    {
     "data": {
      "text/plain": [
       "                                   question  \\\n",
       "0                            what is mlops    \n",
       "1                   why is mlops important    \n",
       "2                     what is a data drift    \n",
       "3        how does versioning work in mlops    \n",
       "4                 what is a model registry    \n",
       "5  how can i monitor a model in production    \n",
       "6            what is the purpose of docker    \n",
       "7                 what are ci cd pipelines    \n",
       "8                           why use mlflow    \n",
       "9     how does fastapi work with ml models    \n",
       "\n",
       "                                              answer text  \n",
       "0  mlops is a set of practices to streamline the ...       \n",
       "1  mlops helps in scaling monitoring and maintain...       \n",
       "2  data drift is a change in the statistical prop...       \n",
       "3  versioning allows you to track and manage diff...       \n",
       "4  a model registry is a centralized storage for ...       \n",
       "5  by tracking metrics like accuracy latency and ...       \n",
       "6  docker helps in creating reproducible environm...       \n",
       "7  ci cd pipelines automate the testing and deplo...       \n",
       "8  mlflow tracks experiments manages models and f...       \n",
       "9  fastapi allows you to build an api for serving...       "
      ],
      "text/html": [
       "<div>\n",
       "<style scoped>\n",
       "    .dataframe tbody tr th:only-of-type {\n",
       "        vertical-align: middle;\n",
       "    }\n",
       "\n",
       "    .dataframe tbody tr th {\n",
       "        vertical-align: top;\n",
       "    }\n",
       "\n",
       "    .dataframe thead th {\n",
       "        text-align: right;\n",
       "    }\n",
       "</style>\n",
       "<table border=\"1\" class=\"dataframe\">\n",
       "  <thead>\n",
       "    <tr style=\"text-align: right;\">\n",
       "      <th></th>\n",
       "      <th>question</th>\n",
       "      <th>answer</th>\n",
       "      <th>text</th>\n",
       "    </tr>\n",
       "  </thead>\n",
       "  <tbody>\n",
       "    <tr>\n",
       "      <th>0</th>\n",
       "      <td>what is mlops</td>\n",
       "      <td>mlops is a set of practices to streamline the ...</td>\n",
       "      <td></td>\n",
       "    </tr>\n",
       "    <tr>\n",
       "      <th>1</th>\n",
       "      <td>why is mlops important</td>\n",
       "      <td>mlops helps in scaling monitoring and maintain...</td>\n",
       "      <td></td>\n",
       "    </tr>\n",
       "    <tr>\n",
       "      <th>2</th>\n",
       "      <td>what is a data drift</td>\n",
       "      <td>data drift is a change in the statistical prop...</td>\n",
       "      <td></td>\n",
       "    </tr>\n",
       "    <tr>\n",
       "      <th>3</th>\n",
       "      <td>how does versioning work in mlops</td>\n",
       "      <td>versioning allows you to track and manage diff...</td>\n",
       "      <td></td>\n",
       "    </tr>\n",
       "    <tr>\n",
       "      <th>4</th>\n",
       "      <td>what is a model registry</td>\n",
       "      <td>a model registry is a centralized storage for ...</td>\n",
       "      <td></td>\n",
       "    </tr>\n",
       "    <tr>\n",
       "      <th>5</th>\n",
       "      <td>how can i monitor a model in production</td>\n",
       "      <td>by tracking metrics like accuracy latency and ...</td>\n",
       "      <td></td>\n",
       "    </tr>\n",
       "    <tr>\n",
       "      <th>6</th>\n",
       "      <td>what is the purpose of docker</td>\n",
       "      <td>docker helps in creating reproducible environm...</td>\n",
       "      <td></td>\n",
       "    </tr>\n",
       "    <tr>\n",
       "      <th>7</th>\n",
       "      <td>what are ci cd pipelines</td>\n",
       "      <td>ci cd pipelines automate the testing and deplo...</td>\n",
       "      <td></td>\n",
       "    </tr>\n",
       "    <tr>\n",
       "      <th>8</th>\n",
       "      <td>why use mlflow</td>\n",
       "      <td>mlflow tracks experiments manages models and f...</td>\n",
       "      <td></td>\n",
       "    </tr>\n",
       "    <tr>\n",
       "      <th>9</th>\n",
       "      <td>how does fastapi work with ml models</td>\n",
       "      <td>fastapi allows you to build an api for serving...</td>\n",
       "      <td></td>\n",
       "    </tr>\n",
       "  </tbody>\n",
       "</table>\n",
       "</div>"
      ]
     },
     "execution_count": 33,
     "metadata": {},
     "output_type": "execute_result"
    }
   ],
   "execution_count": 33
  },
  {
   "cell_type": "code",
   "id": "587bc9b0-9c1a-42db-a09d-e486da995ac0",
   "metadata": {
    "ExecuteTime": {
     "end_time": "2024-11-21T10:56:53.180179Z",
     "start_time": "2024-11-21T10:56:53.169730Z"
    }
   },
   "source": [
    "text_train = pd.read_csv('../data/train_data.csv')\n",
    "text_train['text'] = text_train['question'] + text_train['answer']\n",
    "text_train = text_train.drop(columns=['question', 'answer', 'Unnamed: 0'])"
   ],
   "outputs": [],
   "execution_count": 34
  },
  {
   "cell_type": "markdown",
   "id": "add227f9-b001-4097-b724-ed5b6b474e5b",
   "metadata": {},
   "source": [
    "# Diviser les données en ensembles d'entraînement et de validation"
   ]
  },
  {
   "cell_type": "code",
   "id": "7ad181bb-4783-41d2-b6d2-390706df59bc",
   "metadata": {
    "ExecuteTime": {
     "end_time": "2024-11-21T10:56:53.249302Z",
     "start_time": "2024-11-21T10:56:53.241976Z"
    }
   },
   "source": [
    "text_train, text_val = train_test_split(text_train, train_size=0.8, random_state=42)\n",
    "# X_train, y_train = text_train[:, 0], text_train[:, 1]\n",
    "# X_val, y_val = text_val[:, 0], text_val[:, 1]"
   ],
   "outputs": [],
   "execution_count": 35
  },
  {
   "metadata": {
    "ExecuteTime": {
     "end_time": "2024-11-21T10:56:53.350341Z",
     "start_time": "2024-11-21T10:56:53.342629Z"
    }
   },
   "cell_type": "code",
   "source": "text_train",
   "id": "c142c925428922e1",
   "outputs": [
    {
     "data": {
      "text/plain": [
       "                                                text\n",
       "0  how can i monitor a model in production by tra...\n",
       "7  what is the purpose of docker docker helps in ...\n",
       "2  what are ci cd pipelines ci cd pipelines autom...\n",
       "4  how does fastapi work with ml models fastapi a...\n",
       "3  what is a data drift data drift is a change in...\n",
       "6  how does versioning work in mlops versioning a..."
      ],
      "text/html": [
       "<div>\n",
       "<style scoped>\n",
       "    .dataframe tbody tr th:only-of-type {\n",
       "        vertical-align: middle;\n",
       "    }\n",
       "\n",
       "    .dataframe tbody tr th {\n",
       "        vertical-align: top;\n",
       "    }\n",
       "\n",
       "    .dataframe thead th {\n",
       "        text-align: right;\n",
       "    }\n",
       "</style>\n",
       "<table border=\"1\" class=\"dataframe\">\n",
       "  <thead>\n",
       "    <tr style=\"text-align: right;\">\n",
       "      <th></th>\n",
       "      <th>text</th>\n",
       "    </tr>\n",
       "  </thead>\n",
       "  <tbody>\n",
       "    <tr>\n",
       "      <th>0</th>\n",
       "      <td>how can i monitor a model in production by tra...</td>\n",
       "    </tr>\n",
       "    <tr>\n",
       "      <th>7</th>\n",
       "      <td>what is the purpose of docker docker helps in ...</td>\n",
       "    </tr>\n",
       "    <tr>\n",
       "      <th>2</th>\n",
       "      <td>what are ci cd pipelines ci cd pipelines autom...</td>\n",
       "    </tr>\n",
       "    <tr>\n",
       "      <th>4</th>\n",
       "      <td>how does fastapi work with ml models fastapi a...</td>\n",
       "    </tr>\n",
       "    <tr>\n",
       "      <th>3</th>\n",
       "      <td>what is a data drift data drift is a change in...</td>\n",
       "    </tr>\n",
       "    <tr>\n",
       "      <th>6</th>\n",
       "      <td>how does versioning work in mlops versioning a...</td>\n",
       "    </tr>\n",
       "  </tbody>\n",
       "</table>\n",
       "</div>"
      ]
     },
     "execution_count": 36,
     "metadata": {},
     "output_type": "execute_result"
    }
   ],
   "execution_count": 36
  },
  {
   "cell_type": "markdown",
   "id": "2d1c36ab-7c46-4f3d-8484-7a0110ec68b7",
   "metadata": {},
   "source": [
    "# Convertir en Dataset et supprimer les colonnes inutiles"
   ]
  },
  {
   "cell_type": "code",
   "id": "41655610-70e4-4d8b-ac59-ec7dbbe856b0",
   "metadata": {
    "ExecuteTime": {
     "end_time": "2024-11-21T10:56:53.447793Z",
     "start_time": "2024-11-21T10:56:53.431285Z"
    }
   },
   "source": [
    "train_dataset = Dataset.from_pandas(text_train).remove_columns([\"__index_level_0__\"])\n",
    "eval_dataset = Dataset.from_pandas(text_val).remove_columns([\"__index_level_0__\"])"
   ],
   "outputs": [],
   "execution_count": 37
  },
  {
   "cell_type": "markdown",
   "id": "2e01ad82-7c14-4a8b-a3c7-397b314e65f8",
   "metadata": {},
   "source": [
    "# Charger le modèle et le tokenizer, et définir un token de remplissage"
   ]
  },
  {
   "cell_type": "code",
   "id": "13c77506-2c21-40b9-a9d5-d3eb412df8f3",
   "metadata": {
    "ExecuteTime": {
     "end_time": "2024-11-21T10:56:55.272816Z",
     "start_time": "2024-11-21T10:56:53.797554Z"
    }
   },
   "source": [
    "model_name = 'gpt2'\n",
    "model = GPT2LMHeadModel.from_pretrained(model_name)\n",
    "tokenizer = GPT2Tokenizer.from_pretrained(model_name)\n",
    "tokenizer.pad_token = tokenizer.eos_token"
   ],
   "outputs": [],
   "execution_count": 38
  },
  {
   "cell_type": "markdown",
   "id": "079946ad-7257-4fbf-bff8-6084c710d8a2",
   "metadata": {},
   "source": [
    "# Tokeniser le dataset avec les labels"
   ]
  },
  {
   "metadata": {
    "ExecuteTime": {
     "end_time": "2024-11-21T10:56:57.469450Z",
     "start_time": "2024-11-21T10:56:55.281169Z"
    }
   },
   "cell_type": "code",
   "source": [
    "# with mlflow.start_run():\n",
    "#     tokenized = tokenizer(train_dataset['text'], padding=True, return_tensors='pt')\n",
    "#     output = model(**tokenized, labels=tokenized['input_ids'])\n",
    "def tokenize_function(examples):\n",
    "    tokens = tokenizer(examples[\"text\"], padding=\"max_length\", truncation=True, max_length=50)\n",
    "    tokens[\"labels\"] = tokens[\"input_ids\"].copy()  # Utiliser input_ids comme labels\n",
    "    return tokens\n",
    "\n",
    "train_dataset = train_dataset.map(tokenize_function, batched=True)\n",
    "eval_dataset = eval_dataset.map(tokenize_function, batched=True)"
   ],
   "id": "fee4dc44a2d66791",
   "outputs": [
    {
     "data": {
      "text/plain": [
       "Map:   0%|          | 0/6 [00:00<?, ? examples/s]"
      ],
      "application/vnd.jupyter.widget-view+json": {
       "version_major": 2,
       "version_minor": 0,
       "model_id": "919f834c963a453ab07e563566aa8bfd"
      }
     },
     "metadata": {},
     "output_type": "display_data"
    },
    {
     "data": {
      "text/plain": [
       "Map:   0%|          | 0/2 [00:00<?, ? examples/s]"
      ],
      "application/vnd.jupyter.widget-view+json": {
       "version_major": 2,
       "version_minor": 0,
       "model_id": "817d479dd6d94d7189ccb2f47f19a44d"
      }
     },
     "metadata": {},
     "output_type": "display_data"
    }
   ],
   "execution_count": 39
  },
  {
   "metadata": {
    "ExecuteTime": {
     "end_time": "2024-11-21T10:56:59.559716Z",
     "start_time": "2024-11-21T10:56:57.523691Z"
    }
   },
   "cell_type": "code",
   "source": [
    "train_dataset = train_dataset.map(tokenize_function, batched=True)\n",
    "eval_dataset = eval_dataset.map(tokenize_function, batched=True)"
   ],
   "id": "3f3753724fd5e23d",
   "outputs": [
    {
     "data": {
      "text/plain": [
       "Map:   0%|          | 0/6 [00:00<?, ? examples/s]"
      ],
      "application/vnd.jupyter.widget-view+json": {
       "version_major": 2,
       "version_minor": 0,
       "model_id": "35056c296265402f8d290e4f36f0dce9"
      }
     },
     "metadata": {},
     "output_type": "display_data"
    },
    {
     "data": {
      "text/plain": [
       "Map:   0%|          | 0/2 [00:00<?, ? examples/s]"
      ],
      "application/vnd.jupyter.widget-view+json": {
       "version_major": 2,
       "version_minor": 0,
       "model_id": "534b5bef03d549ac837f32c8018ef9b7"
      }
     },
     "metadata": {},
     "output_type": "display_data"
    }
   ],
   "execution_count": 40
  },
  {
   "cell_type": "markdown",
   "id": "9b6b721e-263b-4238-ae51-2a9f760aeb52",
   "metadata": {},
   "source": [
    "# Définir les arguments d'entraînement"
   ]
  },
  {
   "cell_type": "code",
   "id": "af847d63-f702-4a65-a328-fe4b0fa42a62",
   "metadata": {
    "ExecuteTime": {
     "end_time": "2024-11-21T10:57:00.426841Z",
     "start_time": "2024-11-21T10:56:59.586580Z"
    }
   },
   "source": [
    "from transformers import Trainer, TrainingArguments\n",
    "\n",
    "training_args = TrainingArguments(\n",
    "    output_dir=\"./results\",\n",
    "    eval_strategy=\"epoch\",\n",
    "    per_device_train_batch_size=2,\n",
    "    num_train_epochs=1,\n",
    "    remove_unused_columns=False\n",
    ")"
   ],
   "outputs": [
    {
     "name": "stderr",
     "output_type": "stream",
     "text": [
      "Using the `WANDB_DISABLED` environment variable is deprecated and will be removed in v5. Use the --report_to flag to control the integrations used for logging result (for instance --report_to none).\n"
     ]
    }
   ],
   "execution_count": 41
  },
  {
   "cell_type": "markdown",
   "id": "28ea571a-0da1-47a6-9195-b18ed2c2bb09",
   "metadata": {},
   "source": [
    "# Configurer MLflow pour pointer vers votre serveur local"
   ]
  },
  {
   "cell_type": "code",
   "id": "dddff9ce-903c-4927-93b3-814979a1daad",
   "metadata": {
    "ExecuteTime": {
     "end_time": "2024-11-21T10:57:00.561605Z",
     "start_time": "2024-11-21T10:57:00.539453Z"
    }
   },
   "source": [
    "mlflow.set_tracking_uri('../mlruns')\n",
    "# mlflow_id = mlflow.create_experiment('GPT-2 Chatbot') # A ne pas create si existant deja, mlflow_id == 1\n",
    "mlflow_id = 1\n",
    "mlflow.set_experiment('GPT-2 Chatbot')"
   ],
   "outputs": [
    {
     "data": {
      "text/plain": [
       "<Experiment: artifact_location='file:///D:/SchoolWork/M2S3/REDS/M2S3-REDS-MLOps/src/../mlruns/326467713629892773', creation_time=1732186388623, experiment_id='326467713629892773', last_update_time=1732186388623, lifecycle_stage='active', name='GPT-2 Chatbot', tags={}>"
      ]
     },
     "execution_count": 42,
     "metadata": {},
     "output_type": "execute_result"
    }
   ],
   "execution_count": 42
  },
  {
   "cell_type": "markdown",
   "id": "61bbd3d0-4552-4ae2-a807-c5baec9624de",
   "metadata": {},
   "source": [
    "# Initialiser le Trainer"
   ]
  },
  {
   "cell_type": "code",
   "id": "073b9670-b371-45d4-8423-323184c0848d",
   "metadata": {
    "ExecuteTime": {
     "end_time": "2024-11-21T10:57:01.129511Z",
     "start_time": "2024-11-21T10:57:00.696235Z"
    }
   },
   "source": [
    "trainer = Trainer(\n",
    "    model=model,\n",
    "    args=training_args,\n",
    "    train_dataset=train_dataset,\n",
    "    eval_dataset=eval_dataset\n",
    ")"
   ],
   "outputs": [],
   "execution_count": 43
  },
  {
   "cell_type": "markdown",
   "id": "6118ca3f-16c2-488e-9609-f135813ebd9a",
   "metadata": {},
   "source": [
    "# Entraîner le modèle et enregistrer avec MLflow"
   ]
  },
  {
   "cell_type": "code",
   "id": "5d695554-47cc-41c4-80dd-e951dc4db160",
   "metadata": {
    "ExecuteTime": {
     "end_time": "2024-11-21T10:57:06.029418Z",
     "start_time": "2024-11-21T10:57:01.143719Z"
    }
   },
   "source": [
    "with mlflow.start_run() as run:\n",
    "    trainer.train()"
   ],
   "outputs": [
    {
     "data": {
      "text/plain": [
       "<IPython.core.display.HTML object>"
      ],
      "text/html": [
       "\n",
       "    <div>\n",
       "      \n",
       "      <progress value='3' max='3' style='width:300px; height:20px; vertical-align: middle;'></progress>\n",
       "      [3/3 00:02, Epoch 1/1]\n",
       "    </div>\n",
       "    <table border=\"1\" class=\"dataframe\">\n",
       "  <thead>\n",
       " <tr style=\"text-align: left;\">\n",
       "      <th>Epoch</th>\n",
       "      <th>Training Loss</th>\n",
       "      <th>Validation Loss</th>\n",
       "    </tr>\n",
       "  </thead>\n",
       "  <tbody>\n",
       "    <tr>\n",
       "      <td>1</td>\n",
       "      <td>No log</td>\n",
       "      <td>2.641448</td>\n",
       "    </tr>\n",
       "  </tbody>\n",
       "</table><p>"
      ]
     },
     "metadata": {},
     "output_type": "display_data"
    }
   ],
   "execution_count": 44
  },
  {
   "cell_type": "markdown",
   "id": "c9549d35-cb8e-4578-9ffc-a682082af256",
   "metadata": {},
   "source": [
    "  # Log des paramètres et du modèle dans MLflow"
   ]
  },
  {
   "cell_type": "code",
   "id": "3855f1f3-18dd-4130-8af6-84e76370f5e9",
   "metadata": {
    "ExecuteTime": {
     "end_time": "2024-11-21T10:57:23.501377Z",
     "start_time": "2024-11-21T10:57:06.048868Z"
    }
   },
   "source": [
    "mlflow.log_params({\"model_name\": model_name, \"epochs\": training_args.num_train_epochs})\n",
    "mlflow.pytorch.log_model(model, \"model\")"
   ],
   "outputs": [
    {
     "name": "stderr",
     "output_type": "stream",
     "text": [
      "2024/11/21 11:57:06 WARNING mlflow.utils.requirements_utils: Found torch version (2.5.1+cu121) contains a local version label (+cu121). MLflow logged a pip requirement for this package as 'torch==2.5.1' without the local version label to make it installable from PyPI. To specify pip requirements containing local version labels, please use `conda_env` or `pip_requirements`.\n",
      "2024/11/21 11:57:22 WARNING mlflow.utils.requirements_utils: Found torchvision version (0.20.1+cu121) contains a local version label (+cu121). MLflow logged a pip requirement for this package as 'torchvision==0.20.1' without the local version label to make it installable from PyPI. To specify pip requirements containing local version labels, please use `conda_env` or `pip_requirements`.\n",
      "2024/11/21 11:57:22 WARNING mlflow.models.model: Model logged without a signature and input example. Please set `input_example` parameter when logging the model to auto infer the model signature.\n"
     ]
    },
    {
     "data": {
      "text/plain": [
       "<mlflow.models.model.ModelInfo at 0x1a1be76c710>"
      ]
     },
     "execution_count": 45,
     "metadata": {},
     "output_type": "execute_result"
    }
   ],
   "execution_count": 45
  },
  {
   "metadata": {
    "ExecuteTime": {
     "end_time": "2024-11-21T11:09:46.087777Z",
     "start_time": "2024-11-21T11:09:32.015828Z"
    }
   },
   "cell_type": "code",
   "source": "mlflow.pytorch.save_model(model, './model/GPT-2')",
   "id": "c2328a721c504ae0",
   "outputs": [
    {
     "name": "stderr",
     "output_type": "stream",
     "text": [
      "2024/11/21 12:09:34 WARNING mlflow.utils.requirements_utils: Found torch version (2.5.1+cu121) contains a local version label (+cu121). MLflow logged a pip requirement for this package as 'torch==2.5.1' without the local version label to make it installable from PyPI. To specify pip requirements containing local version labels, please use `conda_env` or `pip_requirements`.\n",
      "2024/11/21 12:09:45 WARNING mlflow.utils.requirements_utils: Found torchvision version (0.20.1+cu121) contains a local version label (+cu121). MLflow logged a pip requirement for this package as 'torchvision==0.20.1' without the local version label to make it installable from PyPI. To specify pip requirements containing local version labels, please use `conda_env` or `pip_requirements`.\n"
     ]
    }
   ],
   "execution_count": 46
  },
  {
   "metadata": {},
   "cell_type": "code",
   "outputs": [],
   "execution_count": null,
   "source": "",
   "id": "5af62f45fa9791d"
  }
 ],
 "metadata": {
  "kernelspec": {
   "display_name": "Python 3 (ipykernel)",
   "language": "python",
   "name": "python3"
  },
  "language_info": {
   "codemirror_mode": {
    "name": "ipython",
    "version": 3
   },
   "file_extension": ".py",
   "mimetype": "text/x-python",
   "name": "python",
   "nbconvert_exporter": "python",
   "pygments_lexer": "ipython3",
   "version": "3.12.3"
  }
 },
 "nbformat": 4,
 "nbformat_minor": 5
}
