{
 "cells": [
  {
   "cell_type": "code",
   "id": "157bfa1c-c41f-4528-a58b-7946b53da51f",
   "metadata": {
    "ExecuteTime": {
     "end_time": "2024-11-21T11:10:45.134131Z",
     "start_time": "2024-11-21T11:10:39.716867Z"
    }
   },
   "source": [
    "%pip install fastapi\n",
    "%pip install uvicorn"
   ],
   "outputs": [
    {
     "name": "stdout",
     "output_type": "stream",
     "text": [
      "Requirement already satisfied: fastapi in d:\\pyvenvs\\dac\\lib\\site-packages (0.115.5)\n",
      "Requirement already satisfied: starlette<0.42.0,>=0.40.0 in d:\\pyvenvs\\dac\\lib\\site-packages (from fastapi) (0.41.3)\n",
      "Requirement already satisfied: pydantic!=1.8,!=1.8.1,!=2.0.0,!=2.0.1,!=2.1.0,<3.0.0,>=1.7.4 in d:\\pyvenvs\\dac\\lib\\site-packages (from fastapi) (2.10.0)\n",
      "Requirement already satisfied: typing-extensions>=4.8.0 in d:\\pyvenvs\\dac\\lib\\site-packages (from fastapi) (4.12.2)\n",
      "Requirement already satisfied: annotated-types>=0.6.0 in d:\\pyvenvs\\dac\\lib\\site-packages (from pydantic!=1.8,!=1.8.1,!=2.0.0,!=2.0.1,!=2.1.0,<3.0.0,>=1.7.4->fastapi) (0.7.0)\n",
      "Requirement already satisfied: pydantic-core==2.27.0 in d:\\pyvenvs\\dac\\lib\\site-packages (from pydantic!=1.8,!=1.8.1,!=2.0.0,!=2.0.1,!=2.1.0,<3.0.0,>=1.7.4->fastapi) (2.27.0)\n",
      "Requirement already satisfied: anyio<5,>=3.4.0 in d:\\pyvenvs\\dac\\lib\\site-packages (from starlette<0.42.0,>=0.40.0->fastapi) (4.6.2.post1)\n",
      "Requirement already satisfied: idna>=2.8 in d:\\pyvenvs\\dac\\lib\\site-packages (from anyio<5,>=3.4.0->starlette<0.42.0,>=0.40.0->fastapi) (3.10)\n",
      "Requirement already satisfied: sniffio>=1.1 in d:\\pyvenvs\\dac\\lib\\site-packages (from anyio<5,>=3.4.0->starlette<0.42.0,>=0.40.0->fastapi) (1.3.1)\n",
      "Note: you may need to restart the kernel to use updated packages.\n",
      "Requirement already satisfied: uvicorn in d:\\pyvenvs\\dac\\lib\\site-packages (0.32.1)\n",
      "Requirement already satisfied: click>=7.0 in d:\\pyvenvs\\dac\\lib\\site-packages (from uvicorn) (8.1.7)\n",
      "Requirement already satisfied: h11>=0.8 in d:\\pyvenvs\\dac\\lib\\site-packages (from uvicorn) (0.14.0)\n",
      "Requirement already satisfied: colorama in d:\\pyvenvs\\dac\\lib\\site-packages (from click>=7.0->uvicorn) (0.4.6)\n",
      "Note: you may need to restart the kernel to use updated packages.\n"
     ]
    }
   ],
   "execution_count": 1
  },
  {
   "cell_type": "code",
   "id": "75036e23-e4df-4b37-a609-502021b0ea11",
   "metadata": {
    "ExecuteTime": {
     "end_time": "2024-11-21T11:23:25.511971Z",
     "start_time": "2024-11-21T11:23:24.492485Z"
    }
   },
   "source": [
    "import mlflow\n",
    "import torch\n",
    "from transformers import GPT2Tokenizer\n",
    "\n",
    "mlflow.set_tracking_uri('../mlruns')\n",
    "mlflow.set_experiment('GPT-2 Chatbot')\n",
    "\n",
    "device = torch.device(\"cuda\" if torch.cuda.is_available() else \"cpu\")\n",
    "\n",
    "model = mlflow.pytorch.load_model(\"./model/GPT-2\")\n",
    "model.to(device)"
   ],
   "outputs": [
    {
     "data": {
      "text/plain": [
       "GPT2LMHeadModel(\n",
       "  (transformer): GPT2Model(\n",
       "    (wte): Embedding(50257, 768)\n",
       "    (wpe): Embedding(1024, 768)\n",
       "    (drop): Dropout(p=0.1, inplace=False)\n",
       "    (h): ModuleList(\n",
       "      (0-11): 12 x GPT2Block(\n",
       "        (ln_1): LayerNorm((768,), eps=1e-05, elementwise_affine=True)\n",
       "        (attn): GPT2SdpaAttention(\n",
       "          (c_attn): Conv1D(nf=2304, nx=768)\n",
       "          (c_proj): Conv1D(nf=768, nx=768)\n",
       "          (attn_dropout): Dropout(p=0.1, inplace=False)\n",
       "          (resid_dropout): Dropout(p=0.1, inplace=False)\n",
       "        )\n",
       "        (ln_2): LayerNorm((768,), eps=1e-05, elementwise_affine=True)\n",
       "        (mlp): GPT2MLP(\n",
       "          (c_fc): Conv1D(nf=3072, nx=768)\n",
       "          (c_proj): Conv1D(nf=768, nx=3072)\n",
       "          (act): NewGELUActivation()\n",
       "          (dropout): Dropout(p=0.1, inplace=False)\n",
       "        )\n",
       "      )\n",
       "    )\n",
       "    (ln_f): LayerNorm((768,), eps=1e-05, elementwise_affine=True)\n",
       "  )\n",
       "  (lm_head): Linear(in_features=768, out_features=50257, bias=False)\n",
       ")"
      ]
     },
     "execution_count": 10,
     "metadata": {},
     "output_type": "execute_result"
    }
   ],
   "execution_count": 10
  },
  {
   "metadata": {
    "ExecuteTime": {
     "end_time": "2024-11-21T11:16:01.812197Z",
     "start_time": "2024-11-21T11:16:00.793427Z"
    }
   },
   "cell_type": "code",
   "source": [
    "model_name = \"gpt2\"\n",
    "tokenizer = GPT2Tokenizer.from_pretrained(model_name)\n",
    "tokenizer.pad_token = tokenizer.eos_token\n",
    "\n",
    "def tokenize_function(examples):\n",
    "    tokens = tokenizer(examples[\"text\"], padding=\"max_length\", truncation=True, max_length=50)\n",
    "    tokens[\"labels\"] = tokens[\"input_ids\"].copy()  # Utiliser input_ids comme labels\n",
    "    return tokens"
   ],
   "id": "91ab0e24150565e0",
   "outputs": [],
   "execution_count": 8
  },
  {
   "cell_type": "code",
   "id": "99e1ffd1-a02c-47ed-8115-762d3590febe",
   "metadata": {
    "ExecuteTime": {
     "end_time": "2024-11-21T11:16:03.091553Z",
     "start_time": "2024-11-21T11:16:03.086223Z"
    }
   },
   "source": [
    "from fastapi import FastAPI\n",
    "\n",
    "app = FastAPI()\n",
    "\n",
    "@app.get(\"/predict\")\n",
    "async def answer_prompt(prompt: str):\n",
    "    model_inputs = tokenizer([prompt], return_tensors=\"pt\").to(device)    \n",
    "    generated_ids = model.generate(**model_inputs, max_new_tokens=100, do_sample=True)\n",
    "    answer = tokenizer.batch_decode(generated_ids)[0]\n",
    "    return {\"answer\": answer}"
   ],
   "outputs": [],
   "execution_count": 9
  },
  {
   "metadata": {},
   "cell_type": "code",
   "outputs": [],
   "execution_count": null,
   "source": "",
   "id": "35ea864777f3569a"
  }
 ],
 "metadata": {
  "kernelspec": {
   "display_name": "Python 3 (ipykernel)",
   "language": "python",
   "name": "python3"
  },
  "language_info": {
   "codemirror_mode": {
    "name": "ipython",
    "version": 3
   },
   "file_extension": ".py",
   "mimetype": "text/x-python",
   "name": "python",
   "nbconvert_exporter": "python",
   "pygments_lexer": "ipython3",
   "version": "3.12.3"
  }
 },
 "nbformat": 4,
 "nbformat_minor": 5
}
